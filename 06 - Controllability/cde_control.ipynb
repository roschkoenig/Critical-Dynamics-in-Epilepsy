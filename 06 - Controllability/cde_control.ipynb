{
 "cells": [
  {
   "cell_type": "markdown",
   "metadata": {},
   "source": [
    "## Controllability\n"
   ]
  },
  {
   "cell_type": "code",
   "execution_count": 2,
   "metadata": {},
   "outputs": [],
   "source": [
    "import os\n",
    "import numpy as np\n",
    "\n",
    "import pandas as pd\n",
    "import copy \n",
    "import networkx as nx\n",
    "import itertools\n",
    "# import community\n",
    "import random\n",
    "from matplotlib import pyplot as plt\n",
    "from sklearn.cluster import KMeans\n",
    "from scipy import signal\n",
    "from scipy import stats\n",
    "from scipy import io\n",
    "from scipy import optimize\n",
    "from matplotlib import colors as mcolors\n",
    "from mpl_toolkits.mplot3d import axes3d\n",
    "import ants\n",
    "import pandas as pd\n",
    "from imp import reload\n",
    "import re\n",
    "import pickle\n",
    "\n",
    "# Jupyter specific autoreloading for external functions (in case changes are made)\n",
    "%load_ext autoreload\n",
    "%autoreload\n",
    "# %matplotlib widget"
   ]
  },
  {
   "cell_type": "code",
   "execution_count": 2,
   "metadata": {},
   "outputs": [],
   "source": [
    "# Housekeeping\n",
    "#===========================================================================\n",
    "# Define manually\n",
    "#---------------------------------------------------------------------------\n",
    "F             = {}\n",
    "F[\"Fbase\"]    = '/Users/roschkoenig/Dropbox/Research/1901 Fish2p/suite2p data'\n",
    "F[\"Fscripts\"] = '/Users/roschkoenig/Dropbox/Research/1812 Critical Dynamics Epilepsy'\n",
    "F[\"Fdata\"]    = '/Users/roschkoenig/Dropbox/Research/1812 Critical Dynamics Epilepsy Data'\n",
    "\n",
    "# Specify automatically\n",
    "#---------------------------------------------------------------------------\n",
    "F[\"Fanalysis\"] = F[\"Fdata\"] + os.sep + 'Analysis'\n",
    "F[\"Fcmn\"]      = F[\"Fanalysis\"] + os.sep + 'CMN'\n",
    "F[\"Ftemps\"]    = F[\"Fdata\"] + os.sep + 'Templates'\n",
    "F[\"Ftrans\"]    = F[\"Ftemps\"] + os.sep + 'CF2REF'\n",
    "F[\"Freg\"]      = F[\"Fanalysis\"] + os.sep + 'Registration'\n",
    "\n",
    "# Load fish data from data folder and \n",
    "#---------------------------------------------------------------------------\n",
    "Fish  = cn.load(F[\"Fcmn\"])"
   ]
  },
  {
   "cell_type": "code",
   "execution_count": 3,
   "metadata": {},
   "outputs": [],
   "source": [
    "# Generate static connectivity representation \n"
   ]
  },
  {
   "cell_type": "code",
   "execution_count": null,
   "metadata": {},
   "outputs": [],
   "source": []
  }
 ],
 "metadata": {
  "kernelspec": {
   "display_name": "Python 3",
   "language": "python",
   "name": "python3"
  },
  "language_info": {
   "codemirror_mode": {
    "name": "ipython",
    "version": 3
   },
   "file_extension": ".py",
   "mimetype": "text/x-python",
   "name": "python",
   "nbconvert_exporter": "python",
   "pygments_lexer": "ipython3",
   "version": "3.7.1"
  }
 },
 "nbformat": 4,
 "nbformat_minor": 2
}
