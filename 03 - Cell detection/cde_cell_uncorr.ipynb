{
 "cells": [
  {
   "cell_type": "code",
   "execution_count": 1,
   "metadata": {},
   "outputs": [],
   "source": [
    "################################################################################\n",
    "## Code adapted from demo_caiman_cnmf_3D as imported from github 21/11/2018\n",
    "## https://github.com/flatironinstitute/CaImAn\n",
    "################################################################################\n",
    "\n",
    "import cde_cell_functions as cc\n",
    "\n",
    "# Import relevant packages\n",
    "#===============================================================================\n",
    "import imp\n",
    "import logging\n",
    "import matplotlib.pyplot as plt\n",
    "import numpy as np\n",
    "import os\n",
    "import psutil\n",
    "import shutil\n",
    "from scipy.ndimage.filters import gaussian_filter\n",
    "import scipy.sparse\n",
    "import sys\n",
    "import re\n",
    "from skimage.external.tifffile import imread\n",
    "from skimage import io\n",
    "import warnings \n",
    "from IPython.display import clear_output\n",
    "import copy\n",
    "from importlib import reload\n",
    "from PIL import Image\n",
    "import datetime\n",
    "\n",
    "# Caiman setup\n",
    "#-------------------------------------------------------------------------------\n",
    "import caiman as cm\n",
    "import caiman.source_extraction.cnmf as cnmf\n",
    "from caiman.utils.visualization import nb_view_patches3d\n",
    "from caiman.source_extraction.cnmf import params as params\n",
    "from caiman.components_evaluation import evaluate_components, estimate_components_quality_auto\n",
    "from caiman.motion_correction import MotionCorrect\n",
    "from caiman.cluster import setup_cluster\n",
    "from caiman.paths import caiman_datadir\n",
    "from caiman.utils.visualization import inspect_correlation_pnr\n",
    "\n",
    "# Jupyter specific autoreloading for external functions (in case changes are made)\n",
    "# %load_ext autoreload\n",
    "# %autoreload"
   ]
  },
  {
   "cell_type": "code",
   "execution_count": 2,
   "metadata": {},
   "outputs": [],
   "source": [
    "# Housekeeping\n",
    "#===============================================================================\n",
    "# Module flags\n",
    "\n",
    "display_movie   = False      # play movie of tifs that are loaded\n",
    "save_results    = False      # flag to save results or not\n",
    "\n",
    "# Define folder locations\n",
    "#-------------------------------------------------------------------------------\n",
    "reload(cc)\n",
    "Fbase     = '/Users/roschkoenig/Dropbox/Research/1812 Critical Dynamics Epilepsy'\n",
    "Fsave     = '/Users/roschkoenig/Dropbox/Research/1812 Critical Dynamics Epilepsy Data'\n",
    "Fscripts  = Fbase + os.sep + '03 - Cell detection' \n",
    "Fdata     = '/Volumes/MARIANNE/1812 Critical Dynamics in Epilepsy'\n",
    "Zfish     = cc.cde_cell_fishspec(Fdata, 'RM')"
   ]
  },
  {
   "cell_type": "code",
   "execution_count": 9,
   "metadata": {},
   "outputs": [],
   "source": [
    "imp.reload(cc),  \n",
    "Pfish = cc.cde_cell_fishspec(Fdata, 'PL')\n"
   ]
  },
  {
   "cell_type": "code",
   "execution_count": null,
   "metadata": {},
   "outputs": [],
   "source": []
  },
  {
   "cell_type": "raw",
   "metadata": {},
   "source": [
    "for f in range(len(Pfish)):\n",
    "    for c in range(len(Pfish[f][\"Cond\"])):\n",
    "        planes = Pfish[f][\"Cond\"][c][\"Plane\"]\n",
    "        Estimates = []\n",
    "        for p in range(len(planes)):\n",
    "            fname = planes[p][\"Tpaths\"]\n",
    "            fr = 4                                                              # frame rate (Hz)\n",
    "            decay_time = 0.5                                                    # approximate length of transient event in seconds\n",
    "            gSig = (4,4)                                                        # expected half size of neurons\n",
    "            p = 1                                                               # order of AR indicator dynamics\n",
    "            min_SNR = 1                                                         # minimum SNR for accepting new components\n",
    "            rval_thr = 0.90                                                     # correlation threshold for new component inclusion\n",
    "            ds_factor = 1                                                       # spatial downsampling factor (increases speed but may lose some fine structure)\n",
    "            gnb = 2                                                             # number of background components\n",
    "            gSig = tuple(np.ceil(np.array(gSig)/ds_factor).astype('int'))       # recompute gSig if downsampling is involved\n",
    "            mot_corr = True                                                     # flag for online motion correction \n",
    "            pw_rigid = False                                                    # flag for pw-rigid motion correction (slower but potentially more accurate)\n",
    "            max_shifts_online = np.ceil(10./ds_factor).astype('int')            # maximum allowed shift during motion correction\n",
    "            sniper_mode = True                                                  # flag using a CNN to detect new neurons (o/w space correlation is used)\n",
    "            init_batch = 200                                                    # number of frames for initialization (presumably from the first file)\n",
    "            expected_comps = 500                                                # maximum number of expected components used for memory pre-allocation (exaggerate here)\n",
    "            dist_shape_update = True                                            # flag for updating shapes in a distributed way\n",
    "            min_num_trial = 10                                                  # number of candidate components per frame     \n",
    "            K = 2                                                               # initial number of components\n",
    "            epochs = 2                                                          # number of passes over the data\n",
    "            show_movie = False                                                  # show the movie with the results as the data gets processed\n",
    "\n",
    "            params_dict = {'fnames': fname,\n",
    "                           'fr': fr,\n",
    "                           'decay_time': decay_time,\n",
    "                           'gSig': gSig,\n",
    "                           'p': p,\n",
    "                           'min_SNR': min_SNR,\n",
    "                           'rval_thr': rval_thr,\n",
    "                           'ds_factor': ds_factor,\n",
    "                           'nb': gnb,\n",
    "                           'motion_correct': mot_corr,\n",
    "                           'init_batch': init_batch,\n",
    "                           'init_method': 'bare',\n",
    "                           'normalize': True,\n",
    "                           'expected_comps': expected_comps,\n",
    "                           'sniper_mode': sniper_mode,\n",
    "                           'dist_shape_update' : dist_shape_update,\n",
    "                           'min_num_trial': min_num_trial,\n",
    "                           'K': K,\n",
    "                           'epochs': epochs,\n",
    "                           'max_shifts_online': max_shifts_online,\n",
    "                           'pw_rigid': pw_rigid,\n",
    "                           'show_movie': show_movie}\n",
    "            opts = cnmf.params.CNMFParams(params_dict=params_dict)\n",
    "            clear_output()\n",
    "            print('-----------------------------------------------------------------------')\n",
    "            print('This is fish ' +str(f)+ ' of ' +str(len(Pfish)))\n",
    "            print('Currently processing condition ' + Pfish[f][\"Cond\"][c][\"Name\"])\n",
    "            print('> Plane ' + str(p) + ' of ' + str(len(planes)))\n",
    "            print('-----------------------------------------------------------------------')\n",
    "            cmn  = cnmf.online_cnmf.OnACID(params=opts)\n",
    "            cmn.fit_online()\n",
    "            Estimates.append({'Spatial':cmn.estimates.A,'Temporal':cmn.estimates.C,'Background':cmn.estimates.b})\n",
    "\n",
    "        Pfish[f][\"Cond\"][c].update({\"CMN\":Estimates})"
   ]
  },
  {
   "cell_type": "code",
   "execution_count": 19,
   "metadata": {},
   "outputs": [
    {
     "data": {
      "text/plain": [
       "[{'Tpaths': ['/Volumes/MARIANNE/1812 Critical Dynamics in Epilepsy/PL_ZFRR003_01/BL/ZFRR003_01_s00_B_PL00.tif']},\n",
       " {'Tpaths': ['/Volumes/MARIANNE/1812 Critical Dynamics in Epilepsy/PL_ZFRR003_01/BL/ZFRR003_01_s00_B_PL01.tif']},\n",
       " {'Tpaths': ['/Volumes/MARIANNE/1812 Critical Dynamics in Epilepsy/PL_ZFRR003_01/BL/ZFRR003_01_s00_B_PL02.tif']},\n",
       " {'Tpaths': ['/Volumes/MARIANNE/1812 Critical Dynamics in Epilepsy/PL_ZFRR003_01/BL/ZFRR003_01_s00_B_PL03.tif']},\n",
       " {'Tpaths': ['/Volumes/MARIANNE/1812 Critical Dynamics in Epilepsy/PL_ZFRR003_01/BL/ZFRR003_01_s00_B_PL04.tif']},\n",
       " {'Tpaths': ['/Volumes/MARIANNE/1812 Critical Dynamics in Epilepsy/PL_ZFRR003_01/BL/ZFRR003_01_s00_B_PL05.tif']},\n",
       " {'Tpaths': ['/Volumes/MARIANNE/1812 Critical Dynamics in Epilepsy/PL_ZFRR003_01/BL/ZFRR003_01_s00_B_PL06.tif']},\n",
       " {'Tpaths': ['/Volumes/MARIANNE/1812 Critical Dynamics in Epilepsy/PL_ZFRR003_01/BL/ZFRR003_01_s00_B_PL07.tif']},\n",
       " {'Tpaths': ['/Volumes/MARIANNE/1812 Critical Dynamics in Epilepsy/PL_ZFRR003_01/BL/ZFRR003_01_s00_B_PL08.tif']}]"
      ]
     },
     "execution_count": 19,
     "metadata": {},
     "output_type": "execute_result"
    }
   ],
   "source": [
    "planes"
   ]
  },
  {
   "cell_type": "code",
   "execution_count": 15,
   "metadata": {},
   "outputs": [
    {
     "data": {
      "text/plain": [
       "<134398x586 sparse matrix of type '<class 'numpy.float32'>'\n",
       "\twith 45294 stored elements in Compressed Sparse Column format>"
      ]
     },
     "execution_count": 15,
     "metadata": {},
     "output_type": "execute_result"
    }
   ],
   "source": [
    "cmn.estimates.A"
   ]
  },
  {
   "cell_type": "code",
   "execution_count": 2,
   "metadata": {},
   "outputs": [],
   "source": [
    "# Housekeeping\n",
    "#===============================================================================\n",
    "# Module flags\n",
    "\n",
    "display_movie   = False      # play movie of tifs that are loaded\n",
    "save_results    = False      # flag to save results or not\n",
    "\n",
    "# Define folder locations\n",
    "#-------------------------------------------------------------------------------\n",
    "Fbase     = '/Users/roschkoenig/Dropbox/Research/1812 Critical Dynamics Epilepsy'\n",
    "Fscripts  = Fbase + os.sep + '03 - Cell detection' \n",
    "Fdata     = '/Volumes/GoogleDrive/My Drive/Research/1809 Seizure criticality/Data'\n",
    "Zfish     = cc.cde_cell_fishspec(Fdata)"
   ]
  },
  {
   "cell_type": "code",
   "execution_count": null,
   "metadata": {},
   "outputs": [],
   "source": [
    "Estimates = Secure_Estimates[0:9]\n",
    "Pfish[f][\"Cond\"][0].update({\"CMN\":Estimates})"
   ]
  },
  {
   "cell_type": "code",
   "execution_count": null,
   "metadata": {},
   "outputs": [],
   "source": [
    "# Save everyhting into folder\n",
    "#---------------------------------------------------------------------------------\n",
    "Fcmn = Fsave + os.sep + 'Analysis' + os.sep + 'CMN' + os.sep + Pfish[f][\"Name\"]\n",
    "if not os.path.exists(Fcmn): os.makedirs(Fcmn)\n",
    "    \n",
    "for c in range(len(Pfish[f][\"Cond\"])):\n",
    "    Fccond = Fcmn + os.sep + Pfish[f][\"Cond\"][c][\"Name\"]\n",
    "    if not os.path.exists(Fccond):\n",
    "        os.makedirs(Fccond)\n",
    "    for p in range(len(Pfish[f][\"Cond\"][c][\"CMN\"])):\n",
    "        scipy.io.savemat(Fccond + os.sep + Pfish[f][\"Name\"] + '_P' + str(p).zfill(2), Pfish[f][\"Cond\"][c][\"CMN\"][p])"
   ]
  }
 ],
 "metadata": {
  "kernelspec": {
   "display_name": "Python 3",
   "language": "python",
   "name": "python3"
  },
  "language_info": {
   "codemirror_mode": {
    "name": "ipython",
    "version": 3
   },
   "file_extension": ".py",
   "mimetype": "text/x-python",
   "name": "python",
   "nbconvert_exporter": "python",
   "pygments_lexer": "ipython3",
   "version": "3.6.8"
  }
 },
 "nbformat": 4,
 "nbformat_minor": 2
}
