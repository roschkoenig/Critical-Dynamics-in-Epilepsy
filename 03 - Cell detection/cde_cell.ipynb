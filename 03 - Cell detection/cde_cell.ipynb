{
 "cells": [
  {
   "cell_type": "code",
   "execution_count": 2,
   "metadata": {},
   "outputs": [],
   "source": [
    "################################################################################\n",
    "## Code adapted from demo_caiman_cnmf_3D as imported from github 21/11/2018\n",
    "## https://github.com/flatironinstitute/CaImAn\n",
    "################################################################################\n",
    "\n",
    "import cde_cell_functions as cc\n",
    "\n",
    "# Import relevant packages\n",
    "#===============================================================================\n",
    "import imp\n",
    "import logging\n",
    "import matplotlib.pyplot as plt\n",
    "import numpy as np\n",
    "import os\n",
    "import psutil\n",
    "import shutil\n",
    "from scipy.ndimage.filters import gaussian_filter\n",
    "import scipy.sparse\n",
    "import sys\n",
    "import re\n",
    "from skimage.external.tifffile import imread\n",
    "from skimage import io\n",
    "import warnings \n",
    "from IPython.display import clear_output\n",
    "import copy\n",
    "from importlib import reload\n",
    "from PIL import Image\n",
    "import datetime\n",
    "\n",
    "# Caiman setup\n",
    "#-------------------------------------------------------------------------------\n",
    "import caiman as cm\n",
    "import caiman.source_extraction.cnmf as cnmf\n",
    "from caiman.utils.visualization import nb_view_patches3d\n",
    "from caiman.source_extraction.cnmf import params as params\n",
    "from caiman.components_evaluation import evaluate_components, estimate_components_quality_auto\n",
    "from caiman.motion_correction import MotionCorrect\n",
    "from caiman.cluster import setup_cluster\n",
    "from caiman.paths import caiman_datadir\n",
    "from caiman.utils.visualization import inspect_correlation_pnr\n",
    "\n",
    "# Jupyter specific autoreloading for external functions (in case changes are made)\n",
    "# %load_ext autoreload\n",
    "# %autoreload"
   ]
  },
  {
   "cell_type": "code",
   "execution_count": 3,
   "metadata": {},
   "outputs": [],
   "source": [
    "# Housekeeping\n",
    "#===============================================================================\n",
    "# Module flags\n",
    "\n",
    "display_movie   = False      # play movie of tifs that are loaded\n",
    "save_results    = False      # flag to save results or not\n",
    "\n",
    "# Define folder locations\n",
    "#-------------------------------------------------------------------------------\n",
    "reload(cc)\n",
    "Fbase     = '/Users/roschkoenig/Dropbox/Research/1812 Critical Dynamics Epilepsy'\n",
    "Fsave     = '/Users/roschkoenig/Dropbox/Research/1812 Critical Dynamics Epilepsy Data'\n",
    "Fscripts  = Fbase + os.sep + '03 - Cell detection' \n",
    "Fdata     = '/Volumes/ALBERS/1812 Critical Dynamics in Epilepsy'\n",
    "Zfish     = cc.cde_cell_fishspec(Fdata, 'RM')"
   ]
  },
  {
   "cell_type": "code",
   "execution_count": 12,
   "metadata": {},
   "outputs": [
    {
     "data": {
      "text/plain": [
       "'ZFRR014_02'"
      ]
     },
     "execution_count": 12,
     "metadata": {},
     "output_type": "execute_result"
    }
   ],
   "source": [
    "Fish = Zfish[-2:]\n",
    "Fish[0][\"Name\"]"
   ]
  },
  {
   "cell_type": "markdown",
   "metadata": {},
   "source": [
    "# Split images up into planes"
   ]
  },
  {
   "cell_type": "code",
   "execution_count": 13,
   "metadata": {},
   "outputs": [
    {
     "name": "stdout",
     "output_type": "stream",
     "text": [
      "----------------------------------------------------------------------------\n",
      "Currently working on ZFRR014_02\n",
      "----------------------------------------------------------------------------\n",
      "I found 2 Conditions\n",
      "Condition BL\n",
      "> There are 9 Planes\n",
      "> Processing plane 1\n",
      ">  >  >  >  >  >  >  >  >  >  >  >  >  >  2019-06-12 16:30:42| Saving interim file\n",
      ">  2019-06-12 16:31:36| Saving interim file\n",
      "> Processing plane 2\n",
      ">  >  >  >  >  >  >  >  >  >  >  >  >  >  2019-06-12 18:22:33| Saving interim file\n",
      ">  2019-06-12 18:23:23| Saving interim file\n",
      "> Processing plane 3\n",
      ">  >  >  >  >  >  >  >  >  >  >  >  >  >  2019-06-12 20:15:46| Saving interim file\n",
      ">  2019-06-12 20:16:36| Saving interim file\n",
      "> Processing plane 4\n",
      ">  >  >  >  >  >  >  >  >  >  >  >  >  >  2019-06-12 22:08:48| Saving interim file\n",
      ">  2019-06-12 22:09:40| Saving interim file\n",
      "> Processing plane 5\n",
      ">  >  >  >  >  >  >  >  >  >  >  >  >  >  2019-06-13 00:03:46| Saving interim file\n",
      ">  2019-06-13 00:04:39| Saving interim file\n",
      "> Processing plane 6\n",
      ">  >  >  >  >  >  >  >  >  >  >  >  >  >  2019-06-13 01:58:15| Saving interim file\n",
      ">  2019-06-13 01:59:08| Saving interim file\n",
      "> Processing plane 7\n",
      ">  >  >  >  >  >  >  >  >  >  >  >  >  >  2019-06-13 03:52:59| Saving interim file\n",
      ">  2019-06-13 03:53:54| Saving interim file\n",
      "> Processing plane 8\n",
      ">  >  >  >  >  >  >  >  >  >  >  >  >  >  2019-06-13 05:49:43| Saving interim file\n",
      ">  2019-06-13 05:50:37| Saving interim file\n",
      "> Processing plane 9\n",
      ">  >  >  >  >  >  >  >  >  >  >  >  >  >  2019-06-13 07:46:35| Saving interim file\n",
      ">  2019-06-13 07:47:31| Saving interim file\n",
      "Condition PTZ\n",
      "> There are 9 Planes\n",
      "> Processing plane 1\n",
      ">  >  >  >  >  >  >  >  2019-06-13 08:20:38| Saving interim file\n",
      "> Processing plane 2\n",
      ">  >  >  >  >  >  >  >  2019-06-13 08:54:14| Saving interim file\n",
      "> Processing plane 3\n",
      ">  >  >  >  >  >  >  >  2019-06-13 09:26:17| Saving interim file\n",
      "> Processing plane 4\n",
      ">  >  >  >  >  >  >  >  2019-06-13 09:59:06| Saving interim file\n",
      "> Processing plane 5\n",
      ">  >  >  >  >  >  >  >  2019-06-13 10:32:33| Saving interim file\n",
      "> Processing plane 6\n",
      ">  >  >  >  >  >  >  >  2019-06-13 11:05:01| Saving interim file\n",
      "> Processing plane 7\n",
      ">  >  >  >  >  >  >  >  2019-06-13 11:39:09| Saving interim file\n",
      "> Processing plane 8\n",
      ">  >  >  >  >  >  >  >  2019-06-13 12:13:05| Saving interim file\n",
      "> Processing plane 9\n",
      ">  >  >  >  >  >  >  >  2019-06-13 12:47:12| Saving interim file\n",
      "----------------------------------------------------------------------------\n",
      "Currently working on ZFRR004_02\n",
      "----------------------------------------------------------------------------\n",
      "I found 0 Conditions\n"
     ]
    }
   ],
   "source": [
    "for z in Fish:\n",
    "    print('----------------------------------------------------------------------------')\n",
    "    print('Currently working on ' + z[\"Name\"])\n",
    "    print('----------------------------------------------------------------------------')\n",
    "    cc.cde_cell_planesave(Fdata, z, mxpf = 7000)"
   ]
  },
  {
   "cell_type": "markdown",
   "metadata": {},
   "source": [
    "# Run actual cell segmentation"
   ]
  },
  {
   "cell_type": "code",
   "execution_count": 4,
   "metadata": {},
   "outputs": [],
   "source": [
    "imp.reload(cc),  \n",
    "Pfish = cc.cde_cell_fishspec(Fdata, 'PL')\n",
    "f     = 3"
   ]
  },
  {
   "cell_type": "code",
   "execution_count": 20,
   "metadata": {},
   "outputs": [
    {
     "name": "stdout",
     "output_type": "stream",
     "text": [
      "-----------------------------------------------------------------------\n",
      "Currently processing condition BL\n",
      "> Plane 1 of 9\n",
      "-----------------------------------------------------------------------\n",
      "Size frame:(298, 451)\n",
      "Noise Normalization\n",
      "Roi Extraction...\n",
      "Greedy initialization of spatial and temporal components using spatial Gaussian filtering\n",
      "USING TOTAL SUM FOR INITIALIZATION....\n",
      "(Hals) Refining Components...\n",
      "Expecting 500 components\n",
      "Now processing file /Volumes/ALBERS/1812 Critical Dynamics in Epilepsy/PL_ZFRR003_01/BL/ZFRR003_01_s01_B_PL00.tif\n",
      "Epoch: 1. 200 frames have beeen processed in total. 0 new components were added. Total # of components is 2\n"
     ]
    },
    {
     "ename": "error",
     "evalue": "OpenCV(4.1.0) /Users/travis/build/skvark/opencv-python/opencv/modules/imgproc/src/templmatch.cpp:1112: error: (-215:Assertion failed) _img.size().height <= _templ.size().height && _img.size().width <= _templ.size().width in function 'matchTemplate'\n",
     "output_type": "error",
     "traceback": [
      "\u001b[0;31m---------------------------------------------------------------------------\u001b[0m",
      "\u001b[0;31merror\u001b[0m                                     Traceback (most recent call last)",
      "\u001b[0;32m<ipython-input-20-755a292f9d10>\u001b[0m in \u001b[0;36m<module>\u001b[0;34m()\u001b[0m\n\u001b[1;32m     55\u001b[0m             \u001b[0mprint\u001b[0m\u001b[0;34m(\u001b[0m\u001b[0;34m'-----------------------------------------------------------------------'\u001b[0m\u001b[0;34m)\u001b[0m\u001b[0;34m\u001b[0m\u001b[0;34m\u001b[0m\u001b[0m\n\u001b[1;32m     56\u001b[0m             \u001b[0mcmn\u001b[0m  \u001b[0;34m=\u001b[0m \u001b[0mcnmf\u001b[0m\u001b[0;34m.\u001b[0m\u001b[0monline_cnmf\u001b[0m\u001b[0;34m.\u001b[0m\u001b[0mOnACID\u001b[0m\u001b[0;34m(\u001b[0m\u001b[0mparams\u001b[0m\u001b[0;34m=\u001b[0m\u001b[0mopts\u001b[0m\u001b[0;34m)\u001b[0m\u001b[0;34m\u001b[0m\u001b[0;34m\u001b[0m\u001b[0m\n\u001b[0;32m---> 57\u001b[0;31m             \u001b[0mcmn\u001b[0m\u001b[0;34m.\u001b[0m\u001b[0mfit_online\u001b[0m\u001b[0;34m(\u001b[0m\u001b[0;34m)\u001b[0m\u001b[0;34m\u001b[0m\u001b[0;34m\u001b[0m\u001b[0m\n\u001b[0m\u001b[1;32m     58\u001b[0m             \u001b[0mEstimates\u001b[0m\u001b[0;34m.\u001b[0m\u001b[0mappend\u001b[0m\u001b[0;34m(\u001b[0m\u001b[0;34m{\u001b[0m\u001b[0;34m'Spatial'\u001b[0m\u001b[0;34m:\u001b[0m\u001b[0mcmn\u001b[0m\u001b[0;34m.\u001b[0m\u001b[0mestimates\u001b[0m\u001b[0;34m.\u001b[0m\u001b[0mA\u001b[0m\u001b[0;34m,\u001b[0m\u001b[0;34m'Temporal'\u001b[0m\u001b[0;34m:\u001b[0m\u001b[0mcmn\u001b[0m\u001b[0;34m.\u001b[0m\u001b[0mestimates\u001b[0m\u001b[0;34m.\u001b[0m\u001b[0mC\u001b[0m\u001b[0;34m,\u001b[0m\u001b[0;34m'Background'\u001b[0m\u001b[0;34m:\u001b[0m\u001b[0mcmn\u001b[0m\u001b[0;34m.\u001b[0m\u001b[0mestimates\u001b[0m\u001b[0;34m.\u001b[0m\u001b[0mb\u001b[0m\u001b[0;34m}\u001b[0m\u001b[0;34m)\u001b[0m\u001b[0;34m\u001b[0m\u001b[0;34m\u001b[0m\u001b[0m\n\u001b[1;32m     59\u001b[0m \u001b[0;34m\u001b[0m\u001b[0m\n",
      "\u001b[0;32m/Users/roschkoenig/anaconda3/lib/python3.6/site-packages/caiman/source_extraction/cnmf/online_cnmf.py\u001b[0m in \u001b[0;36mfit_online\u001b[0;34m(self, **kwargs)\u001b[0m\n\u001b[1;32m    756\u001b[0m                         \u001b[0;32melse\u001b[0m\u001b[0;34m:\u001b[0m\u001b[0;34m\u001b[0m\u001b[0;34m\u001b[0m\u001b[0m\n\u001b[1;32m    757\u001b[0m                             frame_cor, shift = motion_correct_iteration_fast(\n\u001b[0;32m--> 758\u001b[0;31m                                     frame_, templ, max_shifts_online, max_shifts_online)\n\u001b[0m\u001b[1;32m    759\u001b[0m                         \u001b[0mself\u001b[0m\u001b[0;34m.\u001b[0m\u001b[0mestimates\u001b[0m\u001b[0;34m.\u001b[0m\u001b[0mshifts\u001b[0m\u001b[0;34m.\u001b[0m\u001b[0mappend\u001b[0m\u001b[0;34m(\u001b[0m\u001b[0mshift\u001b[0m\u001b[0;34m)\u001b[0m\u001b[0;34m\u001b[0m\u001b[0;34m\u001b[0m\u001b[0m\n\u001b[1;32m    760\u001b[0m                     \u001b[0;32melse\u001b[0m\u001b[0;34m:\u001b[0m\u001b[0;34m\u001b[0m\u001b[0;34m\u001b[0m\u001b[0m\n",
      "\u001b[0;32m/Users/roschkoenig/anaconda3/lib/python3.6/site-packages/caiman/motion_correction.py\u001b[0m in \u001b[0;36mmotion_correct_iteration_fast\u001b[0;34m(img, template, max_shift_w, max_shift_h)\u001b[0m\n\u001b[1;32m    853\u001b[0m                           max_shift_w:w_i - max_shift_w].astype(np.float32)\n\u001b[1;32m    854\u001b[0m \u001b[0;34m\u001b[0m\u001b[0m\n\u001b[0;32m--> 855\u001b[0;31m     \u001b[0mres\u001b[0m \u001b[0;34m=\u001b[0m \u001b[0mcv2\u001b[0m\u001b[0;34m.\u001b[0m\u001b[0mmatchTemplate\u001b[0m\u001b[0;34m(\u001b[0m\u001b[0mimg\u001b[0m\u001b[0;34m,\u001b[0m \u001b[0mtempl_crop\u001b[0m\u001b[0;34m,\u001b[0m \u001b[0mcv2\u001b[0m\u001b[0;34m.\u001b[0m\u001b[0mTM_CCORR_NORMED\u001b[0m\u001b[0;34m)\u001b[0m\u001b[0;34m\u001b[0m\u001b[0;34m\u001b[0m\u001b[0m\n\u001b[0m\u001b[1;32m    856\u001b[0m     \u001b[0mtop_left\u001b[0m \u001b[0;34m=\u001b[0m \u001b[0mcv2\u001b[0m\u001b[0;34m.\u001b[0m\u001b[0mminMaxLoc\u001b[0m\u001b[0;34m(\u001b[0m\u001b[0mres\u001b[0m\u001b[0;34m)\u001b[0m\u001b[0;34m[\u001b[0m\u001b[0;36m3\u001b[0m\u001b[0;34m]\u001b[0m\u001b[0;34m\u001b[0m\u001b[0;34m\u001b[0m\u001b[0m\n\u001b[1;32m    857\u001b[0m \u001b[0;34m\u001b[0m\u001b[0m\n",
      "\u001b[0;31merror\u001b[0m: OpenCV(4.1.0) /Users/travis/build/skvark/opencv-python/opencv/modules/imgproc/src/templmatch.cpp:1112: error: (-215:Assertion failed) _img.size().height <= _templ.size().height && _img.size().width <= _templ.size().width in function 'matchTemplate'\n"
     ]
    }
   ],
   "source": [
    "for f in range(len(Pfish)):\n",
    "    for c in range(len(Pfish[f][\"Cond\"])):\n",
    "        planes = Pfish[f][\"Cond\"][c][\"Plane\"]\n",
    "        Estimates = []\n",
    "        for p in range(len(planes)-1): # That last plane is a bitch\n",
    "            fname = planes[p][\"Tpaths\"]\n",
    "            fr = 4                                                              # frame rate (Hz)\n",
    "            decay_time = 0.5                                                    # approximate length of transient event in seconds\n",
    "            gSig = (4,4)                                                        # expected half size of neurons\n",
    "            p = 1                                                               # order of AR indicator dynamics\n",
    "            min_SNR = 1                                                         # minimum SNR for accepting new components\n",
    "            rval_thr = 0.90                                                     # correlation threshold for new component inclusion\n",
    "            ds_factor = 1                                                       # spatial downsampling factor (increases speed but may lose some fine structure)\n",
    "            gnb = 2                                                             # number of background components\n",
    "            gSig = tuple(np.ceil(np.array(gSig)/ds_factor).astype('int'))       # recompute gSig if downsampling is involved\n",
    "            mot_corr = True                                                     # flag for online motion correction \n",
    "            pw_rigid = False                                                    # flag for pw-rigid motion correction (slower but potentially more accurate)\n",
    "            max_shifts_online = np.ceil(10./ds_factor).astype('int')            # maximum allowed shift during motion correction\n",
    "            sniper_mode = True                                                  # flag using a CNN to detect new neurons (o/w space correlation is used)\n",
    "            init_batch = 200                                                    # number of frames for initialization (presumably from the first file)\n",
    "            expected_comps = 500                                                # maximum number of expected components used for memory pre-allocation (exaggerate here)\n",
    "            dist_shape_update = True                                            # flag for updating shapes in a distributed way\n",
    "            min_num_trial = 10                                                  # number of candidate components per frame     \n",
    "            K = 2                                                               # initial number of components\n",
    "            epochs = 2                                                          # number of passes over the data\n",
    "            show_movie = False                                                  # show the movie with the results as the data gets processed\n",
    "\n",
    "            params_dict = {'fnames': fname,\n",
    "                           'fr': fr,\n",
    "                           'decay_time': decay_time,\n",
    "                           'gSig': gSig,\n",
    "                           'p': p,\n",
    "                           'min_SNR': min_SNR,\n",
    "                           'rval_thr': rval_thr,\n",
    "                           'ds_factor': ds_factor,\n",
    "                           'nb': gnb,\n",
    "                           'motion_correct': mot_corr,\n",
    "                           'init_batch': init_batch,\n",
    "                           'init_method': 'bare',\n",
    "                           'normalize': True,\n",
    "                           'expected_comps': expected_comps,\n",
    "                           'sniper_mode': sniper_mode,\n",
    "                           'dist_shape_update' : dist_shape_update,\n",
    "                           'min_num_trial': min_num_trial,\n",
    "                           'K': K,\n",
    "                           'epochs': epochs,\n",
    "                           'max_shifts_online': max_shifts_online,\n",
    "                           'pw_rigid': pw_rigid,\n",
    "                           'show_movie': show_movie}\n",
    "            opts = cnmf.params.CNMFParams(params_dict=params_dict)\n",
    "            clear_output()\n",
    "            print('-----------------------------------------------------------------------')\n",
    "            print('Currently processing condition ' + Pfish[f][\"Cond\"][c][\"Name\"])\n",
    "            print('> Plane ' + str(p) + ' of ' + str(len(planes)))\n",
    "            print('-----------------------------------------------------------------------')\n",
    "            cmn  = cnmf.online_cnmf.OnACID(params=opts)\n",
    "            cmn.fit_online()\n",
    "            Estimates.append({'Spatial':cmn.estimates.A,'Temporal':cmn.estimates.C,'Background':cmn.estimates.b})\n",
    "            \n",
    "        Pfish[f][\"Cond\"][c].update({\"CMN\":Estimates})\n",
    "        \n",
    "    # Save everyhting into folder\n",
    "    #---------------------------------------------------------------------------------\n",
    "    Fcmn = Fsave + os.sep + 'Analysis' + os.sep + 'CMN' + os.sep + Pfish[f][\"Name\"]\n",
    "    if not os.path.exists(Fcmn): os.makedirs(Fcmn)\n",
    "\n",
    "    for c in range(len(Pfish[f][\"Cond\"])):\n",
    "        Fccond = Fcmn + os.sep + Pfish[f][\"Cond\"][c][\"Name\"]\n",
    "        if not os.path.exists(Fccond):\n",
    "            os.makedirs(Fccond)\n",
    "        for p in range(len(Pfish[f][\"Cond\"][c][\"CMN\"])):\n",
    "            scipy.io.savemat(Fccond + os.sep + Pfish[f][\"Name\"] + '_P' + str(p).zfill(2), Pfish[f][\"Cond\"][c][\"CMN\"][p])\n",
    "            \n",
    "            "
   ]
  },
  {
   "cell_type": "code",
   "execution_count": 301,
   "metadata": {},
   "outputs": [],
   "source": [
    "# Save everyhting into folder\n",
    "#---------------------------------------------------------------------------------\n",
    "Fcmn = Fsave + os.sep + 'Analysis' + os.sep + 'CMN' + os.sep + Pfish[f][\"Name\"]\n",
    "if not os.path.exists(Fcmn): os.makedirs(Fcmn)\n",
    "    \n",
    "for c in range(len(Pfish[f][\"Cond\"])):\n",
    "    Fccond = Fcmn + os.sep + Pfish[f][\"Cond\"][c][\"Name\"]\n",
    "    if not os.path.exists(Fccond):\n",
    "        os.makedirs(Fccond)\n",
    "    for p in range(len(Pfish[f][\"Cond\"][c][\"CMN\"])):\n",
    "        scipy.io.savemat(Fccond + os.sep + Pfish[f][\"Name\"] + '_P' + str(p).zfill(2), Pfish[f][\"Cond\"][c][\"CMN\"][p])"
   ]
  },
  {
   "cell_type": "code",
   "execution_count": 253,
   "metadata": {},
   "outputs": [],
   "source": [
    "Estimates = Secure_Estimates[0:9]\n",
    "Pfish[f][\"Cond\"][0].update({\"CMN\":Estimates})"
   ]
  },
  {
   "cell_type": "code",
   "execution_count": 19,
   "metadata": {},
   "outputs": [
    {
     "data": {
      "text/plain": [
       "'/Volumes/ALBERS/1812 Critical Dynamics in Epilepsy/PL_ZFRR010_01/BL'"
      ]
     },
     "execution_count": 19,
     "metadata": {},
     "output_type": "execute_result"
    }
   ],
   "source": [
    "Pfish[0]['Cond'][0]['Path']"
   ]
  },
  {
   "cell_type": "code",
   "execution_count": null,
   "metadata": {},
   "outputs": [],
   "source": []
  }
 ],
 "metadata": {
  "kernelspec": {
   "display_name": "Python 3",
   "language": "python",
   "name": "python3"
  },
  "language_info": {
   "codemirror_mode": {
    "name": "ipython",
    "version": 3
   },
   "file_extension": ".py",
   "mimetype": "text/x-python",
   "name": "python",
   "nbconvert_exporter": "python",
   "pygments_lexer": "ipython3",
   "version": "3.6.10"
  }
 },
 "nbformat": 4,
 "nbformat_minor": 4
}
